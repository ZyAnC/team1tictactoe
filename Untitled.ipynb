{
 "cells": [
  {
   "cell_type": "markdown",
   "id": "72b7e145",
   "metadata": {},
   "source": [
    "#  Team 1 members\n",
    "#  Tic Tac Toe\n",
    "#  Wasantah Ranasinghe                    \n",
    "#  Peng Ren                           \n",
    "#  Yan Zheng   \n",
    "#  Alex Bello\n",
    "#  Supitchaya Singmaneeskulchai\n",
    "\n"
   ]
  },
  {
   "cell_type": "markdown",
   "id": "15a1966b",
   "metadata": {},
   "source": [
    "## design"
   ]
  },
  {
   "cell_type": "markdown",
   "id": "57c24d19",
   "metadata": {},
   "source": [
    "The chessboard is implemented with a list of 9 elements\n",
    "Board [0] to board [8] store strings representing chess pieces\n",
    "Strings 0 to 8 represent no placement\n",
    "The strings X and O represent two kinds of chess pieces, that is, chess pieces played by players and machines"
   ]
  },
  {
   "cell_type": "code",
   "execution_count": 1,
   "id": "d6dc0ce2",
   "metadata": {},
   "outputs": [],
   "source": [
    "board = list(\"012345678\")\n",
    "def dis_board(board):\n",
    "    #print board\n",
    "    print(\"\\t{0} | {1} | {2}\".format(board[0], board[1], board[2]))\n",
    "    print(\"\\t- | - | -\")\n",
    "    print(\"\\t{0} | {1} | {2}\".format(board[3], board[4], board[5]))\n",
    "    print(\"\\t_ | _ | _\")\n",
    "    print(\"\\t{0} | {1} | {2}\".format(board[6], board[7], board[8]))"
   ]
  },
  {
   "cell_type": "markdown",
   "id": "3fc319e4",
   "metadata": {},
   "source": [
    "## AI algorithm\n"
   ]
  },
  {
   "cell_type": "markdown",
   "id": "92f9d817",
   "metadata": {},
   "source": [
    "- AI decides that a certain position can win, so choose this position\n",
    "\n",
    "- Otherwise, AI will decide that if the player falls to a certain position to win next, AI will not let him win, and he will fall to this position\n",
    "\n",
    "- Otherwise, place according to the position of center, corner and edge"
   ]
  },
  {
   "cell_type": "code",
   "execution_count": 2,
   "id": "caaa85d2",
   "metadata": {},
   "outputs": [],
   "source": [
    "def _moves(board):\n",
    "    #Seeking location\n",
    "    moves = []\n",
    "    for i in range(9):#Go through the position of the chessboard. If the position is 0-8, then this position can be placed\n",
    "        if board[i] in list(\"012345678\"):\n",
    "            moves.append(i)\n",
    "    return moves\n",
    " "
   ]
  },
  {
   "cell_type": "code",
   "execution_count": 3,
   "id": "72425da4",
   "metadata": {},
   "outputs": [],
   "source": [
    "\n",
    "def playermove(board):\n",
    "    #Ask and confirm the player's selected placement position, and repeat the inquiry for invalid placement\n",
    "    move = 9\n",
    "    while move not in _moves(board):\n",
    "        move = int(input(\"Please selected placement position(0-8):\"))\n",
    "    return move\n",
    " \n",
    "def computermove(board,computerletter,playerletter):\n",
    "    #AI algorithm\n",
    "    boardcopy = board.copy()\n",
    " \n",
    "    #Rule1： AI decides that a certain position can win, so choose this position\n",
    "    for move in _moves(boardcopy):\n",
    "        boardcopy[move] = computerletter\n",
    "        if winner(boardcopy):\n",
    "            return move\n",
    "        boardcopy[move] = str(move)\n",
    " \n",
    "    #Rule2： AI will decide that if the player falls to a certain position to win next, AI will not let him win, and he will fall to this position\n",
    "\n",
    "    for move in _moves(boardcopy):\n",
    "        boardcopy[move] = playerletter\n",
    "        if winner(boardcopy):\n",
    "            return move\n",
    "        boardcopy[move] = str(move)\n",
    " \n",
    "    #Rule3： place according to the position of center, corner and edge\n",
    "    for move in(4,0,2,6,8,1,3,5,7):\n",
    "        if move in _moves(board):\n",
    "            return move\n",
    " \n"
   ]
  },
  {
   "cell_type": "markdown",
   "id": "5073b66d",
   "metadata": {},
   "source": [
    "## Judge whether to win\n",
    "\n",
    "Winner function: judge how to win\n",
    "There are eight situations, three horizontal lines, three vertical lines and two diagonal lines"
   ]
  },
  {
   "cell_type": "code",
   "execution_count": 4,
   "id": "f86e7758",
   "metadata": {},
   "outputs": [
    {
     "name": "stdout",
     "output_type": "stream",
     "text": [
      "Please select chess piece x (player) or o (AI) - (x goes first, o goes later):o\n",
      "AIfirst！\n",
      "\t0 | 1 | 2\n",
      "\t- | - | -\n",
      "\t3 | 4 | 5\n",
      "\t_ | _ | _\n",
      "\t6 | 7 | 8\n",
      "AI placement： 4\n",
      "\t0 | 1 | 2\n",
      "\t- | - | -\n",
      "\t3 | x | 5\n",
      "\t_ | _ | _\n",
      "\t6 | 7 | 8\n",
      "Please selected placement position(0-8):6\n",
      "\t0 | 1 | 2\n",
      "\t- | - | -\n",
      "\t3 | x | 5\n",
      "\t_ | _ | _\n",
      "\to | 7 | 8\n",
      "AI placement： 0\n",
      "\tx | 1 | 2\n",
      "\t- | - | -\n",
      "\t3 | x | 5\n",
      "\t_ | _ | _\n",
      "\to | 7 | 8\n",
      "Please selected placement position(0-8):8\n",
      "\tx | 1 | 2\n",
      "\t- | - | -\n",
      "\t3 | x | 5\n",
      "\t_ | _ | _\n",
      "\to | 7 | o\n",
      "AI placement： 7\n",
      "\tx | 1 | 2\n",
      "\t- | - | -\n",
      "\t3 | x | 5\n",
      "\t_ | _ | _\n",
      "\to | x | o\n",
      "Please selected placement position(0-8):1\n",
      "\tx | o | 2\n",
      "\t- | - | -\n",
      "\t3 | x | 5\n",
      "\t_ | _ | _\n",
      "\to | x | o\n",
      "AI placement： 2\n",
      "\tx | o | x\n",
      "\t- | - | -\n",
      "\t3 | x | 5\n",
      "\t_ | _ | _\n",
      "\to | x | o\n",
      "Please selected placement position(0-8):3\n",
      "\tx | o | x\n",
      "\t- | - | -\n",
      "\to | x | 5\n",
      "\t_ | _ | _\n",
      "\to | x | o\n",
      "AI placement： 5\n",
      "\tx | o | x\n",
      "\t- | - | -\n",
      "\to | x | x\n",
      "\t_ | _ | _\n",
      "\to | x | o\n",
      "Draw！\n"
     ]
    }
   ],
   "source": [
    "def winner(board):\n",
    "\n",
    "    _to_win = {(0,1,2),(3,4,5),(6,7,8),(0,3,6),(1,4,7),(2,5,8),(0,4,8),(2,4,6)}\n",
    "    for r in _to_win:\n",
    "        if board[r[0]] == board[r[1]] == board[r[2]]:\n",
    "            return True\n",
    "    return False\n",
    " \n",
    "def Tie(board):\n",
    "    #Judge whether to draw\n",
    "    for i in list(\"012345678\"):\n",
    "        if i in board:\n",
    "            return False\n",
    "    return True\n",
    " \n",
    "def tic_tac_toe():\n",
    "    \n",
    "    board = list(\"012345678\")\n",
    "    playerletter = input(\"Please select chess piece x (player) or o (AI) - (x goes first, o goes later):\")\n",
    "    if playerletter in(\"X\",\"x\"):\n",
    "        turn = \"player\"\n",
    "        playerletter = \"x\"\n",
    "        computerletter = \"o\"\n",
    "    else:\n",
    "        turn = \"AI\"\n",
    "        computerletter = \"x\"\n",
    "        playerletter = \"o\"\n",
    "    print(\"{}first！\".format(turn))\n",
    " \n",
    "    while True:\n",
    "        dis_board(board)\n",
    "        if turn == 'player':\n",
    "            move = playermove(board)\n",
    "            board[move] = playerletter\n",
    "            if winner(board):\n",
    "                dis_board(board)\n",
    "                print(\"Congratulations，player win！\")\n",
    "                break\n",
    "            else:\n",
    "                turn = \"AI\"\n",
    "        else:\n",
    "            move = computermove(board, computerletter, playerletter)\n",
    "            print(\"AI placement：\",move)\n",
    "            board[move] = computerletter\n",
    "            if winner(board):\n",
    "                dis_board(board)\n",
    "                print(\"AI win！\")\n",
    "                break\n",
    "            else:\n",
    "                turn = \"player\"\n",
    "        if Tie(board):\n",
    "            dis_board(board)\n",
    "            print('Draw！')\n",
    "            break\n",
    " \n",
    " \n",
    "if __name__=='__main__':\n",
    "        tic_tac_toe()\n",
    "\n"
   ]
  },
  {
   "cell_type": "code",
   "execution_count": null,
   "id": "dc5eb07c",
   "metadata": {},
   "outputs": [],
   "source": []
  },
  {
   "cell_type": "code",
   "execution_count": null,
   "id": "12a44550",
   "metadata": {},
   "outputs": [],
   "source": []
  },
  {
   "cell_type": "code",
   "execution_count": null,
   "id": "e6c1a286",
   "metadata": {},
   "outputs": [],
   "source": []
  },
  {
   "cell_type": "code",
   "execution_count": null,
   "id": "149cf103",
   "metadata": {},
   "outputs": [],
   "source": []
  }
 ],
 "metadata": {
  "kernelspec": {
   "display_name": "Python 3 (ipykernel)",
   "language": "python",
   "name": "python3"
  },
  "language_info": {
   "codemirror_mode": {
    "name": "ipython",
    "version": 3
   },
   "file_extension": ".py",
   "mimetype": "text/x-python",
   "name": "python",
   "nbconvert_exporter": "python",
   "pygments_lexer": "ipython3",
   "version": "3.11.1"
  }
 },
 "nbformat": 4,
 "nbformat_minor": 5
}
